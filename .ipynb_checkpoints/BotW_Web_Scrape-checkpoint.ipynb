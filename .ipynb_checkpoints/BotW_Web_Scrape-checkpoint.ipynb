{
 "cells": [
  {
   "cell_type": "markdown",
   "metadata": {},
   "source": [
    "## Initial Setup"
   ]
  },
  {
   "cell_type": "code",
   "execution_count": 1,
   "metadata": {},
   "outputs": [],
   "source": [
    "from splinter import Browser\n",
    "from bs4 import BeautifulSoup\n",
    "from webdriver_manager.chrome import ChromeDriverManager\n",
    "import pandas as pd"
   ]
  },
  {
   "cell_type": "code",
   "execution_count": 2,
   "metadata": {},
   "outputs": [
    {
     "name": "stderr",
     "output_type": "stream",
     "text": [
      "\n",
      "\n",
      "====== WebDriver manager ======\n",
      "Current google-chrome version is 91.0.4472\n",
      "Get LATEST driver version for 91.0.4472\n",
      "Driver [/Users/drewhenning/.wdm/drivers/chromedriver/mac64/91.0.4472.101/chromedriver] found in cache\n"
     ]
    }
   ],
   "source": [
    "executable_path = {'executable_path': ChromeDriverManager().install()}\n",
    "browser = Browser('chrome', **executable_path, headless=False)"
   ]
  },
  {
   "cell_type": "code",
   "execution_count": 3,
   "metadata": {},
   "outputs": [],
   "source": [
    "# establish urls\n",
    "base_url = 'https://zelda.fandom.com/wiki/The_Legend_of_Zelda:_Breath_of_the_Wild'\n",
    "enemies_url = 'https://zelda.fandom.com/wiki/Enemies_in_Breath_of_the_Wild'\n",
    "regions_url = 'https://zelda.fandom.com/wiki/Region'\n",
    "divine_beasts_url = 'https://zelda.fandom.com/wiki/Dungeons_in_Breath_of_the_Wild'"
   ]
  },
  {
   "cell_type": "markdown",
   "metadata": {},
   "source": [
    "## Divine Beasts"
   ]
  },
  {
   "cell_type": "code",
   "execution_count": 4,
   "metadata": {},
   "outputs": [
    {
     "name": "stdout",
     "output_type": "stream",
     "text": [
      "['Divine Beast Vah Medoh', 'Divine Beast Vah Rudania', 'Divine Beast Vah Naboris', 'Divine Beast Vah Ruta']\n"
     ]
    }
   ],
   "source": [
    "# visit url\n",
    "browser.visit(divine_beasts_url)\n",
    "\n",
    "# extract html\n",
    "html = browser.html\n",
    "    \n",
    "# create soup object\n",
    "soup = BeautifulSoup(html, 'html.parser')\n",
    "\n",
    "# create empty list\n",
    "divine_beasts = []\n",
    "\n",
    "for x in range(0,4):\n",
    "    \n",
    "    # extract html\n",
    "    html = browser.html\n",
    "    \n",
    "    # create soup object\n",
    "    soup = BeautifulSoup(html, 'html.parser')\n",
    "    \n",
    "    # find devine_beasts\n",
    "    beast_name = soup.find_all('div', class_='gallerytext')[x].a['title'] \n",
    "    \n",
    "    # append enemies to list\n",
    "    divine_beasts.append(beast_name)\n",
    "\n",
    "# print list\n",
    "print(divine_beasts)"
   ]
  },
  {
   "cell_type": "code",
   "execution_count": 5,
   "metadata": {},
   "outputs": [
    {
     "data": {
      "text/html": [
       "<div>\n",
       "<style scoped>\n",
       "    .dataframe tbody tr th:only-of-type {\n",
       "        vertical-align: middle;\n",
       "    }\n",
       "\n",
       "    .dataframe tbody tr th {\n",
       "        vertical-align: top;\n",
       "    }\n",
       "\n",
       "    .dataframe thead th {\n",
       "        text-align: right;\n",
       "    }\n",
       "</style>\n",
       "<table border=\"1\" class=\"dataframe\">\n",
       "  <thead>\n",
       "    <tr style=\"text-align: right;\">\n",
       "      <th></th>\n",
       "      <th>Divine Beast</th>\n",
       "    </tr>\n",
       "  </thead>\n",
       "  <tbody>\n",
       "    <tr>\n",
       "      <th>0</th>\n",
       "      <td>Divine Beast Vah Medoh</td>\n",
       "    </tr>\n",
       "    <tr>\n",
       "      <th>1</th>\n",
       "      <td>Divine Beast Vah Rudania</td>\n",
       "    </tr>\n",
       "    <tr>\n",
       "      <th>2</th>\n",
       "      <td>Divine Beast Vah Naboris</td>\n",
       "    </tr>\n",
       "    <tr>\n",
       "      <th>3</th>\n",
       "      <td>Divine Beast Vah Ruta</td>\n",
       "    </tr>\n",
       "  </tbody>\n",
       "</table>\n",
       "</div>"
      ],
      "text/plain": [
       "               Divine Beast\n",
       "0    Divine Beast Vah Medoh\n",
       "1  Divine Beast Vah Rudania\n",
       "2  Divine Beast Vah Naboris\n",
       "3     Divine Beast Vah Ruta"
      ]
     },
     "execution_count": 5,
     "metadata": {},
     "output_type": "execute_result"
    }
   ],
   "source": [
    "# create dataframe from list\n",
    "df_divine_beasts = pd.DataFrame(divine_beasts)\n",
    "\n",
    "# rename columns\n",
    "df_divine_beasts = df_divine_beasts.rename(columns={0:\"Divine Beast\"})\n",
    "\n",
    "# display dataframe\n",
    "df_divine_beasts\n",
    "\n",
    "# convert to csv\n"
   ]
  },
  {
   "cell_type": "markdown",
   "metadata": {},
   "source": [
    "## Enemies"
   ]
  },
  {
   "cell_type": "markdown",
   "metadata": {},
   "source": [
    "#### Monsters"
   ]
  },
  {
   "cell_type": "code",
   "execution_count": 6,
   "metadata": {
    "scrolled": true
   },
   "outputs": [
    {
     "name": "stdout",
     "output_type": "stream",
     "text": [
      "['Black Bokoblin', 'Black Lizalfos', 'Black Moblin', 'Blizzrobe', 'Blue Bokoblin', 'Blue Lizalfos', 'Blue-Maned Lynel', 'Blue Moblin', 'Bokoblin', 'Chuchu', 'Chuchu', 'Chuchu', 'Cursed Bokoblin', 'Cursed Lizalfos', 'Cursed Moblin', 'Decayed Guardian', 'Electric Chuchu', 'Electric Chuchu', 'Electric Chuchu', 'Electric Keese', 'Electric Lizalfos', 'Electric Wizzrobe', 'Fire-Breath Lizalfos', 'Fire Chuchu', 'Fire Chuchu', 'Fire Chuchu', 'Fire Keese', 'Fire Wizzrobe', 'Forest Octorok', 'Frost Pebblit', 'Golden Bokoblin', 'Golden Lizalfos', 'Golden Lynel', 'Golden Moblin', 'Guardian Stalker', 'Guardian Scout I', 'Guardian Scout II', 'Guardian Scout III', 'Guardian Scout IV', 'Guardian Skywatcher', 'Guardian Turret', 'Ice Chuchu', 'Ice Chuchu', 'Ice Chuchu', 'Ice Keese', 'Ice-Breath Lizalfos', 'Ice Wizzrobe', 'Igneo Pebblit', 'Keese', 'Lizalfos', 'Lynel', 'Meteo Wizzrobe', 'Moblin', 'Rock Octorok', 'Sentry', 'Silver Bokoblin', 'Silver Lizalfos', 'Silver Lynel', 'Silver Moblin', 'Sky Octorok', 'Snow Octorok', 'Stalizalfos', 'Stalkoblin', 'Stalmoblin', 'Stone Pebblit', 'Thunder Wizzrobe', 'Treasure Octorok', 'Water Octorok', 'White-Maned Lynel', 'Yiga Blademaster', 'Yiga Footsoldier']\n"
     ]
    }
   ],
   "source": [
    "# visit url\n",
    "browser.visit(enemies_url)\n",
    "\n",
    "# extract html\n",
    "html = browser.html\n",
    "    \n",
    "# create soup object\n",
    "soup = BeautifulSoup(html, 'html.parser')\n",
    "\n",
    "# create empty list\n",
    "monsters = []\n",
    "\n",
    "# get title and url\n",
    "for x in range(0,71):\n",
    "    \n",
    "    # extract html\n",
    "    html = browser.html\n",
    "    \n",
    "    # create soup object\n",
    "    soup = BeautifulSoup(html, 'html.parser')\n",
    "    \n",
    "    # find enemies\n",
    "    enemies = soup.find_all('div', class_='gallerytext')[x].a['title']\n",
    "    \n",
    "    # append enemies to list\n",
    "    monsters.append(enemies)\n",
    "\n",
    "# print list\n",
    "print(monsters)"
   ]
  },
  {
   "cell_type": "code",
   "execution_count": 7,
   "metadata": {},
   "outputs": [
    {
     "data": {
      "text/html": [
       "<div>\n",
       "<style scoped>\n",
       "    .dataframe tbody tr th:only-of-type {\n",
       "        vertical-align: middle;\n",
       "    }\n",
       "\n",
       "    .dataframe tbody tr th {\n",
       "        vertical-align: top;\n",
       "    }\n",
       "\n",
       "    .dataframe thead th {\n",
       "        text-align: right;\n",
       "    }\n",
       "</style>\n",
       "<table border=\"1\" class=\"dataframe\">\n",
       "  <thead>\n",
       "    <tr style=\"text-align: right;\">\n",
       "      <th></th>\n",
       "      <th>Monster</th>\n",
       "    </tr>\n",
       "  </thead>\n",
       "  <tbody>\n",
       "    <tr>\n",
       "      <th>0</th>\n",
       "      <td>Black Bokoblin</td>\n",
       "    </tr>\n",
       "    <tr>\n",
       "      <th>1</th>\n",
       "      <td>Black Lizalfos</td>\n",
       "    </tr>\n",
       "    <tr>\n",
       "      <th>2</th>\n",
       "      <td>Black Moblin</td>\n",
       "    </tr>\n",
       "    <tr>\n",
       "      <th>3</th>\n",
       "      <td>Blizzrobe</td>\n",
       "    </tr>\n",
       "    <tr>\n",
       "      <th>4</th>\n",
       "      <td>Blue Bokoblin</td>\n",
       "    </tr>\n",
       "    <tr>\n",
       "      <th>...</th>\n",
       "      <td>...</td>\n",
       "    </tr>\n",
       "    <tr>\n",
       "      <th>66</th>\n",
       "      <td>Treasure Octorok</td>\n",
       "    </tr>\n",
       "    <tr>\n",
       "      <th>67</th>\n",
       "      <td>Water Octorok</td>\n",
       "    </tr>\n",
       "    <tr>\n",
       "      <th>68</th>\n",
       "      <td>White-Maned Lynel</td>\n",
       "    </tr>\n",
       "    <tr>\n",
       "      <th>69</th>\n",
       "      <td>Yiga Blademaster</td>\n",
       "    </tr>\n",
       "    <tr>\n",
       "      <th>70</th>\n",
       "      <td>Yiga Footsoldier</td>\n",
       "    </tr>\n",
       "  </tbody>\n",
       "</table>\n",
       "<p>71 rows × 1 columns</p>\n",
       "</div>"
      ],
      "text/plain": [
       "              Monster\n",
       "0      Black Bokoblin\n",
       "1      Black Lizalfos\n",
       "2        Black Moblin\n",
       "3           Blizzrobe\n",
       "4       Blue Bokoblin\n",
       "..                ...\n",
       "66   Treasure Octorok\n",
       "67      Water Octorok\n",
       "68  White-Maned Lynel\n",
       "69   Yiga Blademaster\n",
       "70   Yiga Footsoldier\n",
       "\n",
       "[71 rows x 1 columns]"
      ]
     },
     "execution_count": 7,
     "metadata": {},
     "output_type": "execute_result"
    }
   ],
   "source": [
    "# create dataframe from list\n",
    "df_monsters = pd.DataFrame(monsters)\n",
    "\n",
    "# rename columns\n",
    "df_monsters = df_monsters.rename(columns={0:\"Monster\"})\n",
    "\n",
    "# display dataframe\n",
    "df_monsters"
   ]
  },
  {
   "cell_type": "markdown",
   "metadata": {},
   "source": [
    "#### Overworld Bosses"
   ]
  },
  {
   "cell_type": "code",
   "execution_count": 8,
   "metadata": {},
   "outputs": [
    {
     "name": "stdout",
     "output_type": "stream",
     "text": [
      "['Stone Talus', 'Stone Talus', 'Stone Talus (Luminous)', 'Stone Talus (Rare)', 'Igneo Talus', 'Frost Talus', 'Hinox', 'Hinox', 'Hinox', 'Hinox', 'Blue Hinox', 'Black Hinox', 'Stalnox', 'Molduga', 'Igneo Talus Titan', 'Molduking']\n"
     ]
    }
   ],
   "source": [
    "# visit url\n",
    "browser.visit(enemies_url)\n",
    "\n",
    "# extract html\n",
    "html = browser.html\n",
    "    \n",
    "# create soup object\n",
    "soup = BeautifulSoup(html, 'html.parser')\n",
    "\n",
    "# create empty list\n",
    "overworld_bosses = []\n",
    "\n",
    "# get title and url\n",
    "for x in range(85,101):\n",
    "    \n",
    "    # extract html\n",
    "    html = browser.html\n",
    "    \n",
    "    # create soup object\n",
    "    soup = BeautifulSoup(html, 'html.parser')\n",
    "    \n",
    "    # find enemies\n",
    "    ow_bosses = soup.find_all('div', class_='gallerytext')[x].a['title']\n",
    "    \n",
    "    # append ow_bosses to list\n",
    "    overworld_bosses.append(ow_bosses)\n",
    "    \n",
    "# print list\n",
    "print(overworld_bosses)"
   ]
  },
  {
   "cell_type": "code",
   "execution_count": 9,
   "metadata": {},
   "outputs": [
    {
     "data": {
      "text/html": [
       "<div>\n",
       "<style scoped>\n",
       "    .dataframe tbody tr th:only-of-type {\n",
       "        vertical-align: middle;\n",
       "    }\n",
       "\n",
       "    .dataframe tbody tr th {\n",
       "        vertical-align: top;\n",
       "    }\n",
       "\n",
       "    .dataframe thead th {\n",
       "        text-align: right;\n",
       "    }\n",
       "</style>\n",
       "<table border=\"1\" class=\"dataframe\">\n",
       "  <thead>\n",
       "    <tr style=\"text-align: right;\">\n",
       "      <th></th>\n",
       "      <th>Overworld_Bosses</th>\n",
       "    </tr>\n",
       "  </thead>\n",
       "  <tbody>\n",
       "    <tr>\n",
       "      <th>0</th>\n",
       "      <td>Stone Talus</td>\n",
       "    </tr>\n",
       "    <tr>\n",
       "      <th>1</th>\n",
       "      <td>Stone Talus</td>\n",
       "    </tr>\n",
       "    <tr>\n",
       "      <th>2</th>\n",
       "      <td>Stone Talus (Luminous)</td>\n",
       "    </tr>\n",
       "    <tr>\n",
       "      <th>3</th>\n",
       "      <td>Stone Talus (Rare)</td>\n",
       "    </tr>\n",
       "    <tr>\n",
       "      <th>4</th>\n",
       "      <td>Igneo Talus</td>\n",
       "    </tr>\n",
       "    <tr>\n",
       "      <th>5</th>\n",
       "      <td>Frost Talus</td>\n",
       "    </tr>\n",
       "    <tr>\n",
       "      <th>6</th>\n",
       "      <td>Hinox</td>\n",
       "    </tr>\n",
       "    <tr>\n",
       "      <th>7</th>\n",
       "      <td>Hinox</td>\n",
       "    </tr>\n",
       "    <tr>\n",
       "      <th>8</th>\n",
       "      <td>Hinox</td>\n",
       "    </tr>\n",
       "    <tr>\n",
       "      <th>9</th>\n",
       "      <td>Hinox</td>\n",
       "    </tr>\n",
       "    <tr>\n",
       "      <th>10</th>\n",
       "      <td>Blue Hinox</td>\n",
       "    </tr>\n",
       "    <tr>\n",
       "      <th>11</th>\n",
       "      <td>Black Hinox</td>\n",
       "    </tr>\n",
       "    <tr>\n",
       "      <th>12</th>\n",
       "      <td>Stalnox</td>\n",
       "    </tr>\n",
       "    <tr>\n",
       "      <th>13</th>\n",
       "      <td>Molduga</td>\n",
       "    </tr>\n",
       "    <tr>\n",
       "      <th>14</th>\n",
       "      <td>Igneo Talus Titan</td>\n",
       "    </tr>\n",
       "    <tr>\n",
       "      <th>15</th>\n",
       "      <td>Molduking</td>\n",
       "    </tr>\n",
       "  </tbody>\n",
       "</table>\n",
       "</div>"
      ],
      "text/plain": [
       "          Overworld_Bosses\n",
       "0              Stone Talus\n",
       "1              Stone Talus\n",
       "2   Stone Talus (Luminous)\n",
       "3       Stone Talus (Rare)\n",
       "4              Igneo Talus\n",
       "5              Frost Talus\n",
       "6                    Hinox\n",
       "7                    Hinox\n",
       "8                    Hinox\n",
       "9                    Hinox\n",
       "10              Blue Hinox\n",
       "11             Black Hinox\n",
       "12                 Stalnox\n",
       "13                 Molduga\n",
       "14       Igneo Talus Titan\n",
       "15               Molduking"
      ]
     },
     "execution_count": 9,
     "metadata": {},
     "output_type": "execute_result"
    }
   ],
   "source": [
    "# create dataframe from list\n",
    "df_overworld_bosses = pd.DataFrame(overworld_bosses)\n",
    "\n",
    "# rename columns\n",
    "df_overworld_bosses = df_overworld_bosses.rename(columns={0:\"Overworld_Bosses\"})\n",
    "\n",
    "# display dataframe\n",
    "df_overworld_bosses"
   ]
  },
  {
   "cell_type": "markdown",
   "metadata": {},
   "source": [
    "#### Dungeon Bosses"
   ]
  },
  {
   "cell_type": "code",
   "execution_count": 10,
   "metadata": {},
   "outputs": [
    {
     "name": "stdout",
     "output_type": "stream",
     "text": [
      "['Fireblight Ganon', 'Master Kohga', 'Thunderblight Ganon', 'Waterblight Ganon', 'Monk Maz Koshia', 'Calamity Ganon', 'Dark Beast Ganon']\n"
     ]
    }
   ],
   "source": [
    "# visit url\n",
    "browser.visit(enemies_url)\n",
    "\n",
    "# extract html\n",
    "html = browser.html\n",
    "    \n",
    "# create soup object\n",
    "soup = BeautifulSoup(html, 'html.parser')\n",
    "\n",
    "# create empty list\n",
    "dungeon_bosses = []\n",
    "\n",
    "# get title and url\n",
    "for x in range(102,109):\n",
    "    \n",
    "    # extract html\n",
    "    html = browser.html\n",
    "    \n",
    "    # create soup object\n",
    "    soup = BeautifulSoup(html, 'html.parser')\n",
    "    \n",
    "    # find enemies\n",
    "    dun_bosses = soup.find_all('div', class_='gallerytext')[x].a['title']\n",
    "    \n",
    "    # append dun_bosses to list\n",
    "    dungeon_bosses.append(dun_bosses)\n",
    "\n",
    "# print list\n",
    "print(dungeon_bosses)"
   ]
  },
  {
   "cell_type": "code",
   "execution_count": 11,
   "metadata": {},
   "outputs": [
    {
     "data": {
      "text/html": [
       "<div>\n",
       "<style scoped>\n",
       "    .dataframe tbody tr th:only-of-type {\n",
       "        vertical-align: middle;\n",
       "    }\n",
       "\n",
       "    .dataframe tbody tr th {\n",
       "        vertical-align: top;\n",
       "    }\n",
       "\n",
       "    .dataframe thead th {\n",
       "        text-align: right;\n",
       "    }\n",
       "</style>\n",
       "<table border=\"1\" class=\"dataframe\">\n",
       "  <thead>\n",
       "    <tr style=\"text-align: right;\">\n",
       "      <th></th>\n",
       "      <th>Dungeon_Bosses</th>\n",
       "    </tr>\n",
       "  </thead>\n",
       "  <tbody>\n",
       "    <tr>\n",
       "      <th>0</th>\n",
       "      <td>Fireblight Ganon</td>\n",
       "    </tr>\n",
       "    <tr>\n",
       "      <th>1</th>\n",
       "      <td>Master Kohga</td>\n",
       "    </tr>\n",
       "    <tr>\n",
       "      <th>2</th>\n",
       "      <td>Thunderblight Ganon</td>\n",
       "    </tr>\n",
       "    <tr>\n",
       "      <th>3</th>\n",
       "      <td>Waterblight Ganon</td>\n",
       "    </tr>\n",
       "    <tr>\n",
       "      <th>4</th>\n",
       "      <td>Monk Maz Koshia</td>\n",
       "    </tr>\n",
       "    <tr>\n",
       "      <th>5</th>\n",
       "      <td>Calamity Ganon</td>\n",
       "    </tr>\n",
       "    <tr>\n",
       "      <th>6</th>\n",
       "      <td>Dark Beast Ganon</td>\n",
       "    </tr>\n",
       "  </tbody>\n",
       "</table>\n",
       "</div>"
      ],
      "text/plain": [
       "        Dungeon_Bosses\n",
       "0     Fireblight Ganon\n",
       "1         Master Kohga\n",
       "2  Thunderblight Ganon\n",
       "3    Waterblight Ganon\n",
       "4      Monk Maz Koshia\n",
       "5       Calamity Ganon\n",
       "6     Dark Beast Ganon"
      ]
     },
     "execution_count": 11,
     "metadata": {},
     "output_type": "execute_result"
    }
   ],
   "source": [
    "# create dataframe from list\n",
    "df_dungeon_bosses = pd.DataFrame(dungeon_bosses)\n",
    "\n",
    "# rename columns\n",
    "df_dungeon_bosses = df_dungeon_bosses.rename(columns={0:\"Dungeon_Bosses\"})\n",
    "\n",
    "# display dataframe\n",
    "df_dungeon_bosses"
   ]
  },
  {
   "cell_type": "markdown",
   "metadata": {},
   "source": [
    "## Regions"
   ]
  },
  {
   "cell_type": "code",
   "execution_count": 12,
   "metadata": {},
   "outputs": [
    {
     "name": "stdout",
     "output_type": "stream",
     "text": [
      "['Akkala', 'Central Hyrule', 'Eldin', 'Faron', 'Gerudo', 'Hebra', 'Lanayru', 'Necluda']\n"
     ]
    }
   ],
   "source": [
    "# visit url\n",
    "browser.visit(regions_url)\n",
    "\n",
    "# extract html\n",
    "html = browser.html\n",
    "    \n",
    "# create soup object\n",
    "soup = BeautifulSoup(html, 'html.parser')\n",
    "\n",
    "# create empty list\n",
    "regions = []\n",
    "\n",
    "# get title and url\n",
    "for x in range(4,12):\n",
    "    \n",
    "    # extract html\n",
    "    html = browser.html\n",
    "    \n",
    "    # create soup object\n",
    "    soup = BeautifulSoup(html, 'html.parser')\n",
    "    \n",
    "    # find regions\n",
    "    region_name = soup.find_all('li')[x].a.text\n",
    "\n",
    "    # append region_name to list\n",
    "    regions.append(region_name)\n",
    "\n",
    "# print list\n",
    "print(regions)"
   ]
  },
  {
   "cell_type": "code",
   "execution_count": 13,
   "metadata": {},
   "outputs": [
    {
     "data": {
      "text/html": [
       "<div>\n",
       "<style scoped>\n",
       "    .dataframe tbody tr th:only-of-type {\n",
       "        vertical-align: middle;\n",
       "    }\n",
       "\n",
       "    .dataframe tbody tr th {\n",
       "        vertical-align: top;\n",
       "    }\n",
       "\n",
       "    .dataframe thead th {\n",
       "        text-align: right;\n",
       "    }\n",
       "</style>\n",
       "<table border=\"1\" class=\"dataframe\">\n",
       "  <thead>\n",
       "    <tr style=\"text-align: right;\">\n",
       "      <th></th>\n",
       "      <th>Region</th>\n",
       "    </tr>\n",
       "  </thead>\n",
       "  <tbody>\n",
       "    <tr>\n",
       "      <th>0</th>\n",
       "      <td>Akkala</td>\n",
       "    </tr>\n",
       "    <tr>\n",
       "      <th>1</th>\n",
       "      <td>Central Hyrule</td>\n",
       "    </tr>\n",
       "    <tr>\n",
       "      <th>2</th>\n",
       "      <td>Eldin</td>\n",
       "    </tr>\n",
       "    <tr>\n",
       "      <th>3</th>\n",
       "      <td>Faron</td>\n",
       "    </tr>\n",
       "    <tr>\n",
       "      <th>4</th>\n",
       "      <td>Gerudo</td>\n",
       "    </tr>\n",
       "    <tr>\n",
       "      <th>5</th>\n",
       "      <td>Hebra</td>\n",
       "    </tr>\n",
       "    <tr>\n",
       "      <th>6</th>\n",
       "      <td>Lanayru</td>\n",
       "    </tr>\n",
       "    <tr>\n",
       "      <th>7</th>\n",
       "      <td>Necluda</td>\n",
       "    </tr>\n",
       "  </tbody>\n",
       "</table>\n",
       "</div>"
      ],
      "text/plain": [
       "           Region\n",
       "0          Akkala\n",
       "1  Central Hyrule\n",
       "2           Eldin\n",
       "3           Faron\n",
       "4          Gerudo\n",
       "5           Hebra\n",
       "6         Lanayru\n",
       "7         Necluda"
      ]
     },
     "execution_count": 13,
     "metadata": {},
     "output_type": "execute_result"
    }
   ],
   "source": [
    "# create dataframe from list\n",
    "df_regions = pd.DataFrame(regions)\n",
    "\n",
    "# rename columns\n",
    "df_regions = df_regions.rename(columns={0:\"Region\"})\n",
    "\n",
    "# display dataframe\n",
    "df_regions"
   ]
  },
  {
   "cell_type": "code",
   "execution_count": 14,
   "metadata": {},
   "outputs": [],
   "source": [
    "# quit browser\n",
    "browser.quit()"
   ]
  }
 ],
 "metadata": {
  "kernelspec": {
   "display_name": "Python 3",
   "language": "python",
   "name": "python3"
  },
  "language_info": {
   "codemirror_mode": {
    "name": "ipython",
    "version": 3
   },
   "file_extension": ".py",
   "mimetype": "text/x-python",
   "name": "python",
   "nbconvert_exporter": "python",
   "pygments_lexer": "ipython3",
   "version": "3.8.5"
  }
 },
 "nbformat": 4,
 "nbformat_minor": 4
}
